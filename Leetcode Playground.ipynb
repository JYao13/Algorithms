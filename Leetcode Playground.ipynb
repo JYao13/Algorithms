{
 "cells": [
  {
   "cell_type": "code",
   "execution_count": 1,
   "metadata": {},
   "outputs": [],
   "source": [
    "import pandas as pd\n",
    "import numpy as np\n",
    "import csv\n",
    "import requests\n",
    "import matplotlib.pyplot as plt\n",
    "import collections\n",
    "import functools\n",
    "from matplotlib import style\n",
    "\n",
    "style.use('ggplot')"
   ]
  },
  {
   "cell_type": "markdown",
   "metadata": {},
   "source": [
    "# Array"
   ]
  },
  {
   "cell_type": "markdown",
   "metadata": {},
   "source": [
    "### 914. X of a Kind in a Deck of Cards "
   ]
  },
  {
   "cell_type": "code",
   "execution_count": 40,
   "metadata": {},
   "outputs": [],
   "source": [
    "# In a deck of cards, each card has an integer written on it.\n",
    "# Return true if and only if you can choose X >= 2 such that it is possible to split the entire deck into 1 or more groups of cards, where:\n",
    "# Each group has exactly X cards.\n",
    "# All the cards in each group have the same integer.\n",
    "\n",
    "def hasGroupsSizeX(deck):\n",
    "    \"\"\"\n",
    "    :type deck: List[int]\n",
    "    :rtype: bool\n",
    "    \"\"\"\n",
    "    if len(deck) <= 1:\n",
    "        return False\n",
    "    else:\n",
    "        from math import gcd\n",
    "        import functools\n",
    "        card_count = collections.Counter(deck)\n",
    "        card_vals = card_count.values()   \n",
    "            \n",
    "        return reduce(gcd, card_vals) >= 2\n",
    "\n",
    "'''EX.'''\n",
    "\n",
    "deck = [1,2,3,4,4,3,2,1]\n",
    "\n",
    "print(hasGroupsSizeX(deck))"
   ]
  },
  {
   "cell_type": "markdown",
   "metadata": {},
   "source": [
    "### 941. Valid Mountain Array "
   ]
  },
  {
   "cell_type": "code",
   "execution_count": 18,
   "metadata": {},
   "outputs": [
    {
     "data": {
      "text/plain": [
       "True"
      ]
     },
     "execution_count": 18,
     "metadata": {},
     "output_type": "execute_result"
    }
   ],
   "source": [
    "# Given an array A of integers, return true if and only if it is a valid mountain array.\n",
    "\n",
    "# Recall that A is a mountain array if and only if:\n",
    "\n",
    "# A.length >= 3\n",
    "# There exists some i with 0 < i < A.length - 1 such that:\n",
    "# A[0] < A[1] < ... A[i-1] < A[i]\n",
    "# A[i] > A[i+1] > ... > A[A.length - 1]\n",
    "\n",
    "def validMountainArray(A):\n",
    "    \"\"\"\n",
    "    :type A: List[int]\n",
    "    :rtype: bool\n",
    "    \"\"\"\n",
    "    if len(A) < 3:\n",
    "        return False\n",
    "    else:\n",
    "        left = 1\n",
    "        right = len(A) - 1\n",
    "        while A[left] < A[left + 1]:\n",
    "            left += 1\n",
    "        while A[right - 1] > A[right]:\n",
    "            right -= 1\n",
    "        if left == right:\n",
    "            return True\n",
    "        else:\n",
    "            return False\n",
    "        \n",
    "'''EX.'''\n",
    "A_list = [4,3,6,1]\n",
    "\n",
    "print(validMountainArray(A_list))"
   ]
  },
  {
   "cell_type": "markdown",
   "metadata": {},
   "source": [
    "# Hash Table"
   ]
  },
  {
   "cell_type": "markdown",
   "metadata": {},
   "source": [
    "### 242. Valid Anagram"
   ]
  },
  {
   "cell_type": "code",
   "execution_count": 38,
   "metadata": {},
   "outputs": [
    {
     "name": "stdout",
     "output_type": "stream",
     "text": [
      "True\n",
      "False\n"
     ]
    }
   ],
   "source": [
    "# Given two strings s and t , write a function to determine if t is an anagram of s.\n",
    "\n",
    "def isAnagram(s, t):\n",
    "    \"\"\"\n",
    "    :type s: str\n",
    "    :type t: str\n",
    "    :rtype: bool\n",
    "    \"\"\"\n",
    "    import collections\n",
    "    s_count = collections.Counter(s)\n",
    "    t_count = collections.Counter(t)\n",
    "    return s_count == t_count\n",
    "\n",
    "print(isAnagram(\"anagram\", \"nagaram\"))\n",
    "print(isAnagram(\"rat\", \"cat\"))"
   ]
  },
  {
   "cell_type": "markdown",
   "metadata": {},
   "source": [
    "###  884. Uncommon Words from Two Sentences"
   ]
  },
  {
   "cell_type": "code",
   "execution_count": 72,
   "metadata": {},
   "outputs": [
    {
     "name": "stdout",
     "output_type": "stream",
     "text": [
      "['lebron', 'james']\n"
     ]
    }
   ],
   "source": [
    "# We are given two sentences A and B.  (A sentence is a string of space separated words.  Each word consists only of lowercase letters.)\n",
    "# A word is uncommon if it appears exactly once in one of the sentences, and does not appear in the other sentence.\n",
    "# Return a list of all uncommon words. \n",
    "# You may return the list in any order.\n",
    "\n",
    "def uncommonFromSentences(A, B):\n",
    "        \"\"\"\n",
    "        :type A: str\n",
    "        :type B: str\n",
    "        :rtype: List[str]\n",
    "        \"\"\"\n",
    "        import collections\n",
    "        A_words = A.split(' ')\n",
    "        B_words = B.split(' ')\n",
    "        tot_words = A_words + B_words\n",
    "        \n",
    "        word_count = collections.Counter(tot_words)\n",
    "\n",
    "        return [word for word in word_count if word_count[word] == 1]\n",
    "\n",
    "print(uncommonFromSentences('hi hi', 'hi lebron james'))"
   ]
  },
  {
   "cell_type": "markdown",
   "metadata": {},
   "source": [
    "# Linked Lists"
   ]
  },
  {
   "cell_type": "markdown",
   "metadata": {},
   "source": [
    "### 206. Reverse Linked List "
   ]
  },
  {
   "cell_type": "code",
   "execution_count": 76,
   "metadata": {},
   "outputs": [],
   "source": [
    "# Reverse a singly linked list.\n",
    "\n",
    "# Definition for singly-linked list.\n",
    "class ListNode:\n",
    "    def __init__(self, x):\n",
    "        self.val = x\n",
    "        self.next = None\n",
    "\n",
    "def reverseList(head):\n",
    "    \"\"\"\n",
    "    :type head: ListNode\n",
    "    :rtype: ListNode\n",
    "    \"\"\"\n",
    "    if head is None or head.next is None: \n",
    "        return head\n",
    "    prev = None\n",
    "    cur = head\n",
    "    \n",
    "    while cur:\n",
    "        next_node = cur.next # temp definition of next node - we need this to store our next_node before we reassign current node in line 3\n",
    "        cur.next = prev # setting node's next as the previous\n",
    "        prev = cur # setting prev to be the current node -> this carries to the next iteration and is assigned in line 2\n",
    "        cur = next_node # we to the next node to iterate - this was stored in line 1\n",
    "    \n",
    "    return prev"
   ]
  },
  {
   "cell_type": "markdown",
   "metadata": {},
   "source": [
    "###  160. Intersection of Two Linked Lists"
   ]
  },
  {
   "cell_type": "code",
   "execution_count": 2,
   "metadata": {},
   "outputs": [],
   "source": [
    "# Write a program to find the node at which the intersection of two singly linked lists begins.\n",
    "\n",
    "# Definition for singly-linked list.\n",
    "class ListNode:\n",
    "    def __init__(self, x):\n",
    "        self.val = x\n",
    "        self.next = None\n",
    "\n",
    "# caching/hash table method - O(n) complexity - too long\n",
    "def getIntersectionNode(headA, headB):\n",
    "    \"\"\"\n",
    "    :type head1, head1: ListNode\n",
    "    :rtype: ListNode\n",
    "    \"\"\"\n",
    "    cur = headA\n",
    "    list_A = []\n",
    "    while cur:\n",
    "        list_A.append(cur)\n",
    "        cur = cur.next\n",
    "    \n",
    "    cur_b = headB\n",
    "    while cur_b:\n",
    "        if cur_b in list_A:\n",
    "            return cur_b\n",
    "        cur_b = cur_b.next\n",
    "        \n",
    "    return None "
   ]
  },
  {
   "cell_type": "code",
   "execution_count": null,
   "metadata": {},
   "outputs": [],
   "source": [
    "''' More Efficient Method '''\n",
    "\n",
    "# Write a program to find the node at which the intersection of two singly linked lists begins.\n",
    "\n",
    "# Definition for singly-linked list.\n",
    "class ListNode:\n",
    "    def __init__(self, x):\n",
    "        self.val = x\n",
    "        self.next = None\n",
    "        \n",
    "# using two pointers technique/chained list\n",
    "def getIntersectionNode2(headA, headB):\n",
    "    \"\"\"\n",
    "    :type head1, head1: ListNode\n",
    "    :rtype: ListNode\n",
    "    \"\"\"\n",
    "    if headA == None or headB == None:\n",
    "        return None\n",
    "    \n",
    "    A_pivot = headA\n",
    "    B_pivot = headB\n",
    "    \n",
    "    while A_pivot != B_pivot:\n",
    "        A_pivot = headB if A_pivot == None else A_pivot.next\n",
    "        B_pivot = headA if B_pivot == None else B_pivot.next\n",
    "        print(str(A_pivot) + ':' + str(B_pivot))\n",
    "        \n",
    "    return A_pivot"
   ]
  },
  {
   "cell_type": "markdown",
   "metadata": {},
   "source": [
    "### 725. Split Linked List in Parts "
   ]
  },
  {
   "cell_type": "code",
   "execution_count": null,
   "metadata": {},
   "outputs": [],
   "source": [
    "# Given a (singly) linked list with head node root, write a function to split the linked list into k consecutive linked list \"parts\".\n",
    "# The length of each part should be as equal as possible: no two parts should have a size differing by more than 1. This may lead to some parts being null.\n",
    "# The parts should be in order of occurrence in the input list, and parts occurring earlier should always have a size greater than or equal parts occurring later.\n",
    "# Return a List of ListNode's representing the linked list parts that are formed.\n",
    "\n",
    "# Examples 1->2->3->4, k = 5 // 5 equal parts [ [1], [2], [3], [4], null ]\n",
    "\n",
    "def splitListToParts(root, k):\n",
    "        \"\"\"\n",
    "        :type root: ListNode\n",
    "        :type k: int\n",
    "        :rtype: List[ListNode]\n",
    "        \"\"\"\n",
    "        pass\n",
    "    \n",
    "''' idea: find size of linked list, find length of each part (will // work?) => iterate and put into list of lists ?'''"
   ]
  },
  {
   "cell_type": "code",
   "execution_count": 8,
   "metadata": {},
   "outputs": [
    {
     "data": {
      "text/plain": [
       "2.3333333333333335"
      ]
     },
     "execution_count": 8,
     "metadata": {},
     "output_type": "execute_result"
    }
   ],
   "source": [
    "7 / 3"
   ]
  },
  {
   "cell_type": "markdown",
   "metadata": {},
   "source": [
    "# Two Pointers"
   ]
  },
  {
   "cell_type": "markdown",
   "metadata": {},
   "source": [
    "###  125. Valid Palindrome"
   ]
  },
  {
   "cell_type": "code",
   "execution_count": 50,
   "metadata": {},
   "outputs": [
    {
     "name": "stdout",
     "output_type": "stream",
     "text": [
      "True\n",
      "True\n",
      "True\n",
      "False\n"
     ]
    }
   ],
   "source": [
    "# Given a string, determine if it is a palindrome, considering only alphanumeric characters and ignoring cases.\n",
    "# Note: For the purpose of this problem, we define empty string as valid palindrome.\n",
    "\n",
    "'''Two Pointer method Application'''\n",
    "\n",
    "def isPalindrome(s):\n",
    "    \"\"\"\n",
    "    :type s: str\n",
    "    :rtype: bool\n",
    "    \"\"\"\n",
    "    if len(s) == 0:\n",
    "        return True\n",
    "    else:\n",
    "        s = ''.join(filter(str.isalnum, s))\n",
    "        s = s.lower()\n",
    "        left = 0\n",
    "        right = len(s) - 1\n",
    "        while left <= right:\n",
    "            if s[left] == s[right]:\n",
    "                left += 1\n",
    "                right -= 1\n",
    "            else:\n",
    "                return False\n",
    "        return True\n",
    "    \n",
    "print(isPalindrome('SOS'))\n",
    "print(isPalindrome('SO.  , /S'))\n",
    "print(isPalindrome('A man, a plan, a canal: Panama'))\n",
    "print(isPalindrome('A man, a plan, a canal: Panama false'))"
   ]
  },
  {
   "cell_type": "code",
   "execution_count": 57,
   "metadata": {},
   "outputs": [
    {
     "name": "stdout",
     "output_type": "stream",
     "text": [
      "True\n",
      "True\n",
      "True\n",
      "False\n",
      "olleh\n"
     ]
    }
   ],
   "source": [
    "'''More efficient method'''\n",
    "\n",
    "def isPalindrome_2(s):\n",
    "    \"\"\"\n",
    "    :type s: str\n",
    "    :rtype: bool\n",
    "    \"\"\"\n",
    "    s = \"\".join(i for i in s if i.isalnum())\n",
    "    s = s.upper()\n",
    "    return s == s[::-1]\n",
    "\n",
    "print(isPalindrome_2('SOS'))\n",
    "print(isPalindrome_2('SO.  , /S'))\n",
    "print(isPalindrome_2('A man, a plan, a canal: Panama'))\n",
    "print(isPalindrome_2('A man, a plan, a canal: Panama false'))\n",
    "\n",
    "# recall that s[::-1] reverses s <- step of -1\n",
    "print('hello'[::-1]) "
   ]
  },
  {
   "cell_type": "markdown",
   "metadata": {},
   "source": [
    "###  167. Two Sum II - Input array is sorted"
   ]
  },
  {
   "cell_type": "code",
   "execution_count": 65,
   "metadata": {},
   "outputs": [
    {
     "name": "stdout",
     "output_type": "stream",
     "text": [
      "[1, 4]\n",
      "[1, 2]\n"
     ]
    }
   ],
   "source": [
    "# Given an array of integers that is already sorted in ascending order, find two numbers such that they add up to a specific target number.\n",
    "# The function twoSum should return indices of the two numbers such that they add up to the target, where index1 must be less than index2.\n",
    "\n",
    "def twoSum(numbers, target):\n",
    "    \"\"\"\n",
    "    :type numbers: List[int]\n",
    "    :type target: int\n",
    "    :rtype: List[int]\n",
    "    \"\"\"\n",
    "    left = 0\n",
    "    right = len(numbers) - 1\n",
    "    while left <= right:\n",
    "        if numbers[left] + numbers[right] == target:\n",
    "            return [left+1, right+1]\n",
    "        elif numbers[left] + numbers[right] > target:\n",
    "            right -= 1\n",
    "        elif numbers[left] + numbers[right] < target:\n",
    "            left += 1\n",
    "    return False\n",
    "\n",
    "# note that returned indices ARE NOT the same as python default -> list index starts at 1\n",
    "print(twoSum([1,2,3,4,5],5))\n",
    "print(twoSum([2,7,11,15],9))"
   ]
  },
  {
   "cell_type": "markdown",
   "metadata": {},
   "source": [
    "###  349. Intersection of Two Arrays"
   ]
  },
  {
   "cell_type": "code",
   "execution_count": 26,
   "metadata": {},
   "outputs": [
    {
     "name": "stdout",
     "output_type": "stream",
     "text": [
      "[9, 4]\n",
      "[2]\n",
      "[]\n"
     ]
    }
   ],
   "source": [
    "# Given two arrays, write a function to compute their intersection.\n",
    "\n",
    "def intersection(nums1, nums2):\n",
    "    \"\"\"\n",
    "    :type nums1: List[int]\n",
    "    :type nums2: List[int]\n",
    "    :rtype: List[int]\n",
    "    \"\"\"\n",
    "    set1 = set(nums1)\n",
    "    set2 = set(nums2)\n",
    "    \n",
    "    list_intersect = []\n",
    "    for item in set1:\n",
    "        if item in set2:\n",
    "            list_intersect.append(item)\n",
    "    return list_intersect\n",
    "\n",
    "'''Testing'''\n",
    "    \n",
    "print(intersection([4,9,5], [9,4,9,8,4]))\n",
    "print(intersection([1,2,2,1], [2,2]))\n",
    "print(intersection([1,2], [3,4]))"
   ]
  },
  {
   "cell_type": "code",
   "execution_count": 15,
   "metadata": {},
   "outputs": [],
   "source": [
    "'''Simpler Approach:'''\n",
    "\n",
    "def intersection_1(nums1, nums2):\n",
    "    return set(nums1) & set(nums2) # this is the same ideology as above"
   ]
  },
  {
   "cell_type": "markdown",
   "metadata": {},
   "source": [
    "# Strings"
   ]
  },
  {
   "cell_type": "markdown",
   "metadata": {},
   "source": [
    "###  3. Longest Substring Without Repeating Characters"
   ]
  },
  {
   "cell_type": "code",
   "execution_count": 91,
   "metadata": {},
   "outputs": [
    {
     "name": "stdout",
     "output_type": "stream",
     "text": [
      "3\n"
     ]
    }
   ],
   "source": [
    "# Given a string, find the length of the longest substring without repeating characters.\n",
    "\n",
    "def lengthOfLongestSubstring(s):\n",
    "    \"\"\"\n",
    "    :type s: str\n",
    "    :rtype: int\n",
    "    \"\"\"\n",
    "    ans = 0\n",
    "    sub = ''\n",
    "    for char in s:\n",
    "        if char not in sub:\n",
    "            sub += char\n",
    "            # ans is a variable that stores a rolling length of the largest up to date substring\n",
    "            ans = max(ans, len(sub))\n",
    "        else:\n",
    "            # this step cuts at the duplicate-offending character in s and starts a new substring\n",
    "            cut = sub.index(char)\n",
    "            sub = sub[cut+1:] + char\n",
    "    return ans\n",
    "\n",
    "print(lengthOfLongestSubstring(\"pwwkew\"))"
   ]
  },
  {
   "cell_type": "code",
   "execution_count": 73,
   "metadata": {},
   "outputs": [
    {
     "name": "stdout",
     "output_type": "stream",
     "text": [
      "0 apple\n",
      "1 banana\n",
      "2 grapes\n",
      "3 pear\n",
      "0 a\n",
      "1 b\n",
      "2 c\n",
      "3 d\n"
     ]
    },
    {
     "data": {
      "text/plain": [
       "[(0, 'apple'), (1, 'banana'), (2, 'grapes'), (3, 'pear')]"
      ]
     },
     "execution_count": 73,
     "metadata": {},
     "output_type": "execute_result"
    }
   ],
   "source": [
    "'''*** Aside: the Python enumerate function ***'''\n",
    "\n",
    "'''Guide'''\n",
    "# http://book.pythontips.com/en/latest/enumerate.html\n",
    "\n",
    "'''Brief'''\n",
    "# It allows us to loop over something and have an automatic counter\n",
    "\n",
    "'''EX.'''\n",
    "my_list = ['apple', 'banana', 'grapes', 'pear']\n",
    "for c, value in enumerate(my_list, 0):\n",
    "    print(c, value)\n",
    "    \n",
    "my_string = 'abcd'\n",
    "for c, value in enumerate(my_string, 0):\n",
    "    print(c, value)\n",
    "\n",
    "'''Structure'''    \n",
    "list(enumerate(my_list))"
   ]
  },
  {
   "cell_type": "markdown",
   "metadata": {},
   "source": [
    "### 929. Unique Email Addresses "
   ]
  },
  {
   "cell_type": "code",
   "execution_count": 82,
   "metadata": {},
   "outputs": [
    {
     "name": "stdout",
     "output_type": "stream",
     "text": [
      "3\n",
      "2\n"
     ]
    }
   ],
   "source": [
    "# For detailed instructions:\n",
    "# https://leetcode.com/problems/unique-email-addresses/\n",
    "\n",
    "def numUniqueEmails(emails):\n",
    "    \"\"\"\n",
    "    :type emails: List[str]\n",
    "    :rtype: int\n",
    "    \"\"\"\n",
    "    from collections import defaultdict\n",
    "    dict_address = defaultdict(list)\n",
    "    for address in emails:\n",
    "        local = (address.split('@',1)[0]).replace('.','') # local address without any periods\n",
    "        domain = address.split('@',1)[1] # retrieves domain\n",
    "        if local.split('+',1)[0] not in dict_address[domain]:\n",
    "            dict_address[domain].append(local.split('+',1)[0])\n",
    "    count = 0\n",
    "    for domain in dict_address:\n",
    "        count+= len(dict_address[domain])\n",
    "    return count\n",
    "\n",
    "'''EX.'''\n",
    "\n",
    "print(numUniqueEmails(['jack@laurier.ca','johhny@laurier.ca','jack@waterloo.ca']))\n",
    "print(numUniqueEmails([\"test.email+alex@leetcode.com\",\"test.e.mail+bob.cathy@leetcode.com\",\"testemail+david@lee.tcode.com\"]))"
   ]
  },
  {
   "cell_type": "code",
   "execution_count": 83,
   "metadata": {},
   "outputs": [
    {
     "name": "stdout",
     "output_type": "stream",
     "text": [
      "3\n",
      "2\n"
     ]
    }
   ],
   "source": [
    "'''Simpler Method'''\n",
    "\n",
    "def numUniqueEmails2(emails):\n",
    "    seen = set()\n",
    "    for email in emails:\n",
    "        local, domain = email.split('@')\n",
    "        if '+' in local:\n",
    "            local = local[:local.index('+')]\n",
    "        seen.add(local.replace('.','') + '@' + domain)\n",
    "    return len(seen)\n",
    "\n",
    "print(numUniqueEmails2(['jack@laurier.ca','johhny@laurier.ca','jack@waterloo.ca']))\n",
    "print(numUniqueEmails2([\"test.email+alex@leetcode.com\",\"test.e.mail+bob.cathy@leetcode.com\",\"testemail+david@lee.tcode.com\"]))"
   ]
  },
  {
   "cell_type": "markdown",
   "metadata": {},
   "source": [
    "# Binary Search "
   ]
  },
  {
   "cell_type": "markdown",
   "metadata": {},
   "source": [
    "### 875. Koko Eating Bananas"
   ]
  },
  {
   "cell_type": "code",
   "execution_count": 2,
   "metadata": {},
   "outputs": [],
   "source": [
    "# Koko loves to eat bananas.  There are N piles of bananas, the i-th pile has piles[i] bananas.  The guards have gone and will come back in H hours.\n",
    "# Koko can decide her bananas-per-hour eating speed of K.  Each hour, she chooses some pile of bananas, and eats K bananas from that pile.  If the pile has less than K bananas, she eats all of them instead, and won't eat any more bananas during this hour.\n",
    "# Koko likes to eat slowly, but still wants to finish eating all the bananas before the guards come back.\n",
    "# Return the minimum integer K such that she can eat all the bananas within H hours.\n",
    "\n",
    "def minEatingSpeed(piles, H):\n",
    "    \"\"\"\n",
    "    :type piles: List[int]\n",
    "    :type H: int\n",
    "    :rtype: int\n",
    "    \"\"\"\n",
    "    pass\n",
    "\n",
    "\n"
   ]
  },
  {
   "cell_type": "code",
   "execution_count": null,
   "metadata": {},
   "outputs": [],
   "source": []
  }
 ],
 "metadata": {
  "kernelspec": {
   "display_name": "Python 3",
   "language": "python",
   "name": "python3"
  },
  "language_info": {
   "codemirror_mode": {
    "name": "ipython",
    "version": 3
   },
   "file_extension": ".py",
   "mimetype": "text/x-python",
   "name": "python",
   "nbconvert_exporter": "python",
   "pygments_lexer": "ipython3",
   "version": "3.7.0"
  }
 },
 "nbformat": 4,
 "nbformat_minor": 2
}

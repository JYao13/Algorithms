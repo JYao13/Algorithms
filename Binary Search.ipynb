{
 "cells": [
  {
   "cell_type": "markdown",
   "metadata": {},
   "source": [
    "# Binary Search"
   ]
  },
  {
   "cell_type": "markdown",
   "metadata": {},
   "source": [
    "### Template 1"
   ]
  },
  {
   "cell_type": "code",
   "execution_count": 56,
   "metadata": {},
   "outputs": [
    {
     "name": "stdout",
     "output_type": "stream",
     "text": [
      "Target: 4\n"
     ]
    },
    {
     "data": {
      "text/plain": [
       "3"
      ]
     },
     "execution_count": 56,
     "metadata": {},
     "output_type": "execute_result"
    }
   ],
   "source": [
    "def binarySearch(nums, target):\n",
    "    \"\"\"\n",
    "    :type nums: List[int]\n",
    "    :type target: int\n",
    "    :rtype: int\n",
    "    \"\"\"\n",
    "    print('Target: ' + str(target))\n",
    "    if len(nums) == 0:\n",
    "        return -1\n",
    "\n",
    "    left, right = 0, len(nums) - 1\n",
    "    while left <= right:\n",
    "        mid = (left + right) // 2\n",
    "        if nums[mid] == target:\n",
    "            return mid\n",
    "        elif nums[mid] < target:\n",
    "            left = mid + 1\n",
    "        else:\n",
    "            right = mid - 1\n",
    "\n",
    "    # End Condition: left > right\n",
    "    return -1\n",
    "\n",
    "# Breakdown\n",
    "'''\n",
    "Initial Condition: left = 0, right = length-1\n",
    "Termination: left > right\n",
    "Searching Left: right = mid-1\n",
    "Searching Right: left = mid+1\n",
    "'''\n",
    "\n",
    "\n",
    "# Benefits\n",
    "\n",
    "'''\n",
    "You check and compare the element to target at each iteration:\n",
    "- No post-processing\n",
    "- No comparing to object neigbors\n",
    "'''\n",
    "\n",
    "binarySearch([1,2,3,4,5,6,7,8,9,10],4)"
   ]
  },
  {
   "cell_type": "code",
   "execution_count": 50,
   "metadata": {},
   "outputs": [],
   "source": [
    "'''EX. Guess Number Higher or Lower '''\n",
    "\n",
    "# We are playing the Guess Game. The game is as follows:\n",
    "\n",
    "# I pick a number from 1 to n. You have to guess which number I picked.\n",
    "\n",
    "# Every time you guess wrong, I'll tell you whether the number is higher or lower.\n",
    "\n",
    "# You call a pre-defined API guess(int num) which returns 3 possible results (-1, 1, or 0):\n",
    "\n",
    "def guessNumber(n):\n",
    "    \"\"\"\n",
    "    :type n: int\n",
    "    :rtype: int\n",
    "    \"\"\"\n",
    "    left = 0\n",
    "    right = n\n",
    "    while left <= right:\n",
    "        pivot = (left + right) // 2\n",
    "        if guess(pivot) == 0:\n",
    "            return pivot\n",
    "        else:\n",
    "            if guess(pivot) == 1:\n",
    "                left = pivot + 1\n",
    "            else:\n",
    "                right = pivot - 1\n",
    "    \n"
   ]
  },
  {
   "cell_type": "code",
   "execution_count": 51,
   "metadata": {},
   "outputs": [],
   "source": [
    "'''EX. Search in Rotated Sorted Array'''\n",
    "\n",
    "# Suppose an array sorted in ascending order is rotated at some pivot unknown to you beforehand.\n",
    "# (i.e. [0,1,2,4,5,6,7] might become [4,5,6,7,0,1,2]).\n",
    "# You are given a target value to search. If found in the array return its index, otherwise return -1.\n",
    "# You may assume no duplicate exists in the array.\n",
    "# Your algorithm's runtime complexity must be in the order of O(log n).\n",
    "\n",
    "def search(nums, target):\n",
    "        \"\"\"\n",
    "        :type nums: List[int]\n",
    "        :type target: int\n",
    "        :rtype: int\n",
    "        \"\"\"\n",
    "        left = 0\n",
    "        right = len(nums) - 1\n",
    "        while left <= right:\n",
    "            pivot = (left + right) // 2\n",
    "            if nums[pivot] == target:\n",
    "                return pivot\n",
    "            elif nums[pivot] < target:\n",
    "                if nums[pivot] >= nums[left] or target <= nums[right]:\n",
    "                    left = pivot + 1\n",
    "                else:\n",
    "                    right = pivot - 1\n",
    "            else:\n",
    "                if nums[pivot] <= nums[right] or target >= nums[left]:\n",
    "                    right = pivot - 1\n",
    "                else:\n",
    "                    left = pivot + 1\n",
    "        return -1\n"
   ]
  },
  {
   "cell_type": "code",
   "execution_count": 52,
   "metadata": {},
   "outputs": [
    {
     "data": {
      "text/plain": [
       "4"
      ]
     },
     "execution_count": 52,
     "metadata": {},
     "output_type": "execute_result"
    }
   ],
   "source": [
    "search([4,5,6,7,0,1,2], 0)"
   ]
  },
  {
   "cell_type": "markdown",
   "metadata": {},
   "source": [
    "### Template 2"
   ]
  },
  {
   "cell_type": "code",
   "execution_count": 57,
   "metadata": {},
   "outputs": [
    {
     "name": "stdout",
     "output_type": "stream",
     "text": [
      "Target: 4\n"
     ]
    },
    {
     "data": {
      "text/plain": [
       "3"
      ]
     },
     "execution_count": 57,
     "metadata": {},
     "output_type": "execute_result"
    }
   ],
   "source": [
    "def binarySearch2(nums, target):\n",
    "    \"\"\"\n",
    "    :type nums: List[int]\n",
    "    :type target: int\n",
    "    :rtype: int\n",
    "    \"\"\"\n",
    "    print('Target: ' + str(target))\n",
    "    \n",
    "    if len(nums) == 0:\n",
    "        return -1\n",
    "\n",
    "    left = 0\n",
    "    right = len(nums)\n",
    "    while left < right:\n",
    "        mid = (left + right) // 2\n",
    "        if nums[mid] == target:\n",
    "            return mid\n",
    "        elif nums[mid] < target:\n",
    "            left = mid + 1\n",
    "        else:\n",
    "            right = mid\n",
    "\n",
    "    # Post-processing:\n",
    "    # End Condition: left == right\n",
    "    if left != len(nums) and nums[left] == target:\n",
    "        return left\n",
    "    return -1\n",
    "\n",
    "'''\n",
    "Initial Condition: left = 0, right = length\n",
    "Termination: left == right\n",
    "Searching Left: right = mid\n",
    "Searching Right: left = mid+1\n",
    "'''\n",
    "\n",
    "binarySearch2([1,2,3,4,5,6,7,8,9,10],4)"
   ]
  },
  {
   "cell_type": "markdown",
   "metadata": {},
   "source": [
    "### Template 3"
   ]
  },
  {
   "cell_type": "code",
   "execution_count": 58,
   "metadata": {},
   "outputs": [
    {
     "name": "stdout",
     "output_type": "stream",
     "text": [
      "Target: 4\n"
     ]
    },
    {
     "data": {
      "text/plain": [
       "3"
      ]
     },
     "execution_count": 58,
     "metadata": {},
     "output_type": "execute_result"
    }
   ],
   "source": [
    "def binarySearch3(nums, target):\n",
    "    \"\"\"\n",
    "    :type nums: List[int]\n",
    "    :type target: int\n",
    "    :rtype: int\n",
    "    \"\"\"\n",
    "    print('Target: ' + str(target))\n",
    "    \n",
    "    if len(nums) == 0:\n",
    "        return -1\n",
    "\n",
    "    left, right = 0, len(nums) - 1\n",
    "    while left + 1 < right:\n",
    "        mid = (left + right) // 2\n",
    "        if nums[mid] == target:\n",
    "            return mid\n",
    "        elif nums[mid] < target:\n",
    "            left = mid\n",
    "        else:\n",
    "            right = mid\n",
    "\n",
    "    # Post-processing:\n",
    "    # End Condition: left + 1 == right\n",
    "    if nums[left] == target: return left\n",
    "    if nums[right] == target: return right\n",
    "    return -1\n",
    "\n",
    "'''\n",
    "Initial Condition: left = 0, right = length-1\n",
    "Termination: left + 1 == right\n",
    "Searching Left: right = mid\n",
    "Searching Right: left = mid\n",
    "'''\n",
    "\n",
    "binarySearch3([1,2,3,4,5,6,7,8,9,10],4)"
   ]
  }
 ],
 "metadata": {
  "kernelspec": {
   "display_name": "Python 3",
   "language": "python",
   "name": "python3"
  },
  "language_info": {
   "codemirror_mode": {
    "name": "ipython",
    "version": 3
   },
   "file_extension": ".py",
   "mimetype": "text/x-python",
   "name": "python",
   "nbconvert_exporter": "python",
   "pygments_lexer": "ipython3",
   "version": "3.7.0"
  }
 },
 "nbformat": 4,
 "nbformat_minor": 2
}

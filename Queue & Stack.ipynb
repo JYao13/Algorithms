{
 "cells": [
  {
   "cell_type": "code",
   "execution_count": 1,
   "metadata": {},
   "outputs": [],
   "source": [
    "import pandas as pd\n",
    "import numpy as np\n",
    "import csv\n",
    "import requests\n",
    "import matplotlib.pyplot as plt\n",
    "import collections\n",
    "import functools\n",
    "from matplotlib import style\n",
    "\n",
    "style.use('ggplot')"
   ]
  },
  {
   "cell_type": "markdown",
   "metadata": {},
   "source": [
    "# Queue"
   ]
  },
  {
   "cell_type": "code",
   "execution_count": 10,
   "metadata": {},
   "outputs": [
    {
     "name": "stdout",
     "output_type": "stream",
     "text": [
      "[1, 2, 3, 4, 5, 6]\n",
      "[2, 3, 4, 5, 6]\n"
     ]
    }
   ],
   "source": [
    "''' Basically first in first out'''\n",
    "\n",
    "# in python a list might fulfill this\n",
    "list1 = [1,2,3,4,5]\n",
    "\n",
    "list1.append(6) # adds 6 to the last place of the queue\n",
    "print(list1)\n",
    "list1.pop(0) # removes the first element in list first (1 in this case)\n",
    "print(list1)\n"
   ]
  },
  {
   "cell_type": "code",
   "execution_count": null,
   "metadata": {},
   "outputs": [],
   "source": [
    "''' Define a Queue class in Python '''\n",
    "\n",
    "class Queue:\n",
    "    \n",
    "    def __init__(self):\n",
    "        self.queue = []\n",
    "    \n",
    "    def size(self):\n",
    "        return len(self.queue)\n",
    "    \n",
    "    def dequeue(self):\n",
    "        if len(self.queue) < 1:\n",
    "            return None\n",
    "        else:\n",
    "            self.queue.pop(0)\n",
    "        \n",
    "    def enqueue(self, item):\n",
    "        self.queue.append(item)"
   ]
  },
  {
   "cell_type": "markdown",
   "metadata": {},
   "source": [
    "# Stack "
   ]
  },
  {
   "cell_type": "code",
   "execution_count": 8,
   "metadata": {},
   "outputs": [
    {
     "name": "stdout",
     "output_type": "stream",
     "text": [
      "[1, 2, 3, 4, 5, 6]\n",
      "[1, 2, 3, 4, 5]\n"
     ]
    }
   ],
   "source": [
    "'''\n",
    "Basically last in first out\n",
    "\n",
    "Think of this as a literal vertical stack:\n",
    "- the top element must be taken out first\n",
    "- most recent element must be added on top of the stack\n",
    "'''\n",
    "# in python a list by default might fulfill\n",
    "list2 = [1,2,3,4,5]\n",
    "\n",
    "list2.append(6) # adds 6 to the last place (top of stack)\n",
    "print(list2)\n",
    "list2.pop() # removes the last element in list first (6 in this case)\n",
    "print(list2)\n",
    "\n",
    "# however, whats the point of using lists to simulate stacks and queues? lists can be accessed at indices"
   ]
  },
  {
   "cell_type": "code",
   "execution_count": null,
   "metadata": {},
   "outputs": [],
   "source": [
    "''' Define a stack class in Python '''\n",
    "\n",
    "class Stack:\n",
    "    \n",
    "    def __init__(self):\n",
    "        self.stack = []\n",
    "        \n",
    "    def size(self):\n",
    "        return len(self.stack)\n",
    "        \n",
    "    def pop(self):\n",
    "        if len(self.stack) < 1:\n",
    "            return None\n",
    "        return self.stack.pop()\n",
    "    \n",
    "    def push(self, item):\n",
    "        self.stack.append(item)"
   ]
  }
 ],
 "metadata": {
  "kernelspec": {
   "display_name": "Python 3",
   "language": "python",
   "name": "python3"
  },
  "language_info": {
   "codemirror_mode": {
    "name": "ipython",
    "version": 3
   },
   "file_extension": ".py",
   "mimetype": "text/x-python",
   "name": "python",
   "nbconvert_exporter": "python",
   "pygments_lexer": "ipython3",
   "version": "3.7.0"
  }
 },
 "nbformat": 4,
 "nbformat_minor": 2
}

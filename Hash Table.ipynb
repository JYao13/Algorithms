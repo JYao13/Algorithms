{
 "cells": [
  {
   "cell_type": "code",
   "execution_count": 1,
   "metadata": {},
   "outputs": [],
   "source": [
    "import pandas as pd\n",
    "import numpy as np\n",
    "import csv\n",
    "import requests\n",
    "import matplotlib.pyplot as plt\n",
    "import collections\n",
    "import functools\n",
    "from matplotlib import style\n",
    "\n",
    "style.use('ggplot')"
   ]
  },
  {
   "cell_type": "markdown",
   "metadata": {},
   "source": [
    "# Hash Tables"
   ]
  },
  {
   "cell_type": "code",
   "execution_count": null,
   "metadata": {},
   "outputs": [],
   "source": [
    "# Hash maps are built-in in python through dictionaries\n",
    "\n",
    "'''\n",
    "Implementation of a Hashmap in Python\n",
    "Except we use a hash function to create buckets to put multiple (key,value) pairs into\n",
    "Each bucket is a list of (key,value pairs) indexed by integer value\n",
    "'''\n",
    "\n",
    "class MyHashMap:\n",
    "\n",
    "    def __init__(self, size=64):\n",
    "        '''\n",
    "        Initialize your data structure here.\n",
    "        '''\n",
    "        self.size = size # how many buckets do we want\n",
    "        self.hashmap = [[] for _ in range(size)] # initialize a map of size defined\n",
    "        \n",
    "    # the put method will put a (key,value) pair into our hashmap using a hash function\n",
    "    def put(self, key, value):\n",
    "        '''\n",
    "        key: int\n",
    "        value: int\n",
    "        -> None\n",
    "        '''\n",
    "        hash_fcn = key % self.size # simple hash function that mods the key by the size of map\n",
    "        bucket = self.hashmap[hash_fcn] # which index (bucket) we want to put the (key,value) pair into\n",
    "        found = False\n",
    "        for i in range(len(bucket)):\n",
    "            if bucket[i][0] == key:  # if the key of pair at bucket (which is a list) at index i matches our put\n",
    "                bucket[i][1] = value # set the corresponding value in bucket to be value of what we wish to put\n",
    "                found = True\n",
    "        if not found: # if found remains false, we add it as a new key-value pair\n",
    "            bucket.append([key,value])\n",
    "            \n",
    "    # get returns value to which \n",
    "    def get(self, key):\n",
    "        '''\n",
    "        key: int\n",
    "        -> None\n",
    "        '''\n",
    "        hash_fcn = key % self.size\n",
    "        bucket = self.hashmap[hash_fcn] # find the corresponding bucket we need to search\n",
    "        if bucket:\n",
    "            for k, v in bucket:\n",
    "                if k == key: # if we've located key\n",
    "                    return v # return the value stored\n",
    "        return -1 # else return -1 (for not found)\n",
    "    \n",
    "    # removes the mapping of the specified (key,value) pair in mapping if it exists\n",
    "    def remove(self, key):\n",
    "        '''\n",
    "        key: int\n",
    "        '''\n",
    "        hash_fcn = key % self.size\n",
    "        bucket = self.hashmap[hash_fcn] # find corresponding bucket we need to search\n",
    "        if bucket:\n",
    "            i = 0\n",
    "            while i < len(bucket): # check each index of the bucket for the (key,value) pair\n",
    "                k, v = bucket[i] # the stored (k,v) pair we wish to compare\n",
    "                if k == key:\n",
    "                    bucket = bucket[:i] + bucket[i+1:] # destroys bucket, creates new one excluding i\n",
    "                    i -= 1\n",
    "                i += 1\n",
    "        self.hashmap[hash_fcn] = bucket\n"
   ]
  },
  {
   "cell_type": "markdown",
   "metadata": {},
   "source": [
    "### Two Sum - using a Hashmap"
   ]
  },
  {
   "cell_type": "code",
   "execution_count": 69,
   "metadata": {},
   "outputs": [],
   "source": [
    "# Given an array of integers, return indices of the two numbers such that they add up to a specific target.\n",
    "# You may assume that each input would have exactly one solution, and you may not use the same element twice.\n",
    "\n",
    "def twoSum(nums, target):\n",
    "    \"\"\"\n",
    "    :type nums: List[int]\n",
    "    :type target: int\n",
    "    :rtype: List[int]\n",
    "    \"\"\"\n",
    "    \n",
    "    hash_sums = {} # our hash_fcn should return sum of each pair in nums as a separate bucket\n",
    "    for i in range(len(nums)):\n",
    "        for i_2 in range(len(nums)):\n",
    "            if i != i_2:\n",
    "                hash_sums[nums[i] + nums[i_2]] = [{i:nums[i]}, {i_2:nums[i_2]}]\n",
    "\n",
    "    if target in hash_sums.keys():\n",
    "        list_dict_adds = hash_sums[target]\n",
    "        list_i = []\n",
    "        for dict_ in list_dict_adds:\n",
    "            list_i.append(list(dict_.keys())[0])\n",
    "        return list_i\n",
    "    else:\n",
    "        return -1\n",
    "\n",
    "    ''' this method requires more testing'''"
   ]
  },
  {
   "cell_type": "code",
   "execution_count": 71,
   "metadata": {
    "scrolled": true
   },
   "outputs": [
    {
     "data": {
      "text/plain": [
       "[1, 0]"
      ]
     },
     "execution_count": 71,
     "metadata": {},
     "output_type": "execute_result"
    }
   ],
   "source": [
    "twoSum([2, 7, 11, 15, 20, 25,26,35,37,45,63,78], 9)"
   ]
  },
  {
   "cell_type": "markdown",
   "metadata": {},
   "source": [
    "### Group Anagrams"
   ]
  },
  {
   "cell_type": "code",
   "execution_count": 28,
   "metadata": {},
   "outputs": [],
   "source": [
    "# Given an array of strings, group anagrams together.\n",
    "\n",
    "def groupAnagrams(strs):\n",
    "    \"\"\"\n",
    "    :type strs: List[str]\n",
    "    :rtype: List[List[str]]\n",
    "    \"\"\"\n",
    "    from collections import defaultdict\n",
    "    dict_groups = defaultdict(list) # initializes dictionary with default values of lists\n",
    "    \n",
    "    for word in strs:\n",
    "        list_char = list(word) # splits string to list of its characters\n",
    "        sort_char = sorted(list_char) # sorts list by char order\n",
    "        key = ''.join(sort_char) # creates sorted string from sorted list\n",
    "        dict_groups[key].append(word) # adds into the bucket, with key being sorted string\n",
    "    return list(dict_groups.values()) # returns as list of lists"
   ]
  },
  {
   "cell_type": "code",
   "execution_count": 29,
   "metadata": {},
   "outputs": [
    {
     "data": {
      "text/plain": [
       "[['eat', 'tea', 'ate'], ['tan', 'nat'], ['bat']]"
      ]
     },
     "execution_count": 29,
     "metadata": {},
     "output_type": "execute_result"
    }
   ],
   "source": [
    "groupAnagrams([\"eat\", \"tea\", \"tan\", \"ate\", \"nat\", \"bat\"])"
   ]
  },
  {
   "cell_type": "markdown",
   "metadata": {},
   "source": [
    "### Valid Sudoku "
   ]
  },
  {
   "cell_type": "code",
   "execution_count": 42,
   "metadata": {},
   "outputs": [],
   "source": [
    "# check if a given sudoku board, complete or incomplete is valid\n",
    "# incomplete sudoku boards have missing values filled in with '.' \n",
    "\n",
    "def isValidSudoku(board):\n",
    "    # checking by row\n",
    "    for row in range(9): # for rows from 1 - 9\n",
    "        collect = []\n",
    "        for col in range(9): # for columns from 1 - 9\n",
    "            if board[row][col] in collect and board[row][col] != '.':\n",
    "                return False \n",
    "            else:\n",
    "                collect.append(board[row][col])\n",
    "                \n",
    "    for col in range(9):\n",
    "        collect = []\n",
    "        for row in range(9):\n",
    "            if board[row][col] in collect and board[row][col] != '.':\n",
    "                return False\n",
    "            else:\n",
    "                collect.append(board[row][col])\n",
    "    block_collect = []\n",
    "    for row in range(0,9,3): # indices [0,3,6] - corners of our blocks\n",
    "        for col in range(0,9,3): # indices [0,3,6] with row above, we get top left corners of each block\n",
    "            block = [board[i][j] for i in [row, row+1, row+2] for j in [col, col+1, col+2]] \n",
    "            block_collect.append(block)\n",
    "    for block in block_collect:\n",
    "        collect = []\n",
    "        for i in block:\n",
    "            if i in collect and i != '.':\n",
    "                return False\n",
    "            else:\n",
    "                collect.append(i)\n",
    "                \n",
    "    print(block_collect) # each list is a block in sudoku board\n",
    "    return True"
   ]
  },
  {
   "cell_type": "code",
   "execution_count": 43,
   "metadata": {},
   "outputs": [
    {
     "name": "stdout",
     "output_type": "stream",
     "text": [
      "[['5', '3', '.', '6', '.', '.', '.', '9', '8'], ['.', '7', '.', '1', '9', '5', '.', '.', '.'], ['.', '.', '.', '.', '.', '.', '.', '6', '.'], ['8', '.', '.', '4', '.', '.', '7', '.', '.'], ['.', '6', '.', '8', '.', '3', '.', '2', '.'], ['.', '.', '3', '.', '.', '1', '.', '.', '6'], ['.', '6', '.', '.', '.', '.', '.', '.', '.'], ['.', '.', '.', '4', '1', '9', '.', '8', '.'], ['2', '8', '.', '.', '.', '5', '.', '7', '9']]\n"
     ]
    },
    {
     "data": {
      "text/plain": [
       "True"
      ]
     },
     "execution_count": 43,
     "metadata": {},
     "output_type": "execute_result"
    }
   ],
   "source": [
    "board1 = [\n",
    "  [\"5\",\"3\",\".\",\".\",\"7\",\".\",\".\",\".\",\".\"],\n",
    "  [\"6\",\".\",\".\",\"1\",\"9\",\"5\",\".\",\".\",\".\"],\n",
    "  [\".\",\"9\",\"8\",\".\",\".\",\".\",\".\",\"6\",\".\"],\n",
    "  [\"8\",\".\",\".\",\".\",\"6\",\".\",\".\",\".\",\"3\"],\n",
    "  [\"4\",\".\",\".\",\"8\",\".\",\"3\",\".\",\".\",\"1\"],\n",
    "  [\"7\",\".\",\".\",\".\",\"2\",\".\",\".\",\".\",\"6\"],\n",
    "  [\".\",\"6\",\".\",\".\",\".\",\".\",\"2\",\"8\",\".\"],\n",
    "  [\".\",\".\",\".\",\"4\",\"1\",\"9\",\".\",\".\",\"5\"],\n",
    "  [\".\",\".\",\".\",\".\",\"8\",\".\",\".\",\"7\",\"9\"]\n",
    "]\n",
    "\n",
    "isValidSudoku(board1)"
   ]
  },
  {
   "cell_type": "code",
   "execution_count": null,
   "metadata": {},
   "outputs": [],
   "source": []
  }
 ],
 "metadata": {
  "kernelspec": {
   "display_name": "Python 3",
   "language": "python",
   "name": "python3"
  },
  "language_info": {
   "codemirror_mode": {
    "name": "ipython",
    "version": 3
   },
   "file_extension": ".py",
   "mimetype": "text/x-python",
   "name": "python",
   "nbconvert_exporter": "python",
   "pygments_lexer": "ipython3",
   "version": "3.7.0"
  }
 },
 "nbformat": 4,
 "nbformat_minor": 2
}
